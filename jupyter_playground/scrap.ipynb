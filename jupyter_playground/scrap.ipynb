{
 "cells": [
  {
   "cell_type": "code",
   "execution_count": 1,
   "metadata": {},
   "outputs": [
    {
     "data": {
      "text/plain": [
       "0"
      ]
     },
     "execution_count": 1,
     "metadata": {},
     "output_type": "execute_result"
    }
   ],
   "source": [
    "import urllib3\n",
    "http = urllib3.PoolManager()\n",
    "r = http.request('GET', 'https://iot-flat-01.herokuapp.com/min') # http://httpbin.org/robots.txt\n",
    "#r.status\n",
    "#200\n",
    "res = str(r.data)\n",
    "#'User-agent: *\\nDisallow: /deny\\n'\n",
    "int(res[3562:3563])"
   ]
  },
  {
   "cell_type": "code",
   "execution_count": 4,
   "metadata": {},
   "outputs": [
    {
     "data": {
      "text/plain": [
       "'b\\'\\\\n<!DOCTYPE html>\\\\n<html lang=\"en\">\\\\n<head>\\\\n  <meta http-equiv=\"content-type\" content=\"text/html; charset=utf-8\">\\\\n  <meta name=\"robots\" content=\"NONE,NOARCHIVE\">\\\\n  <title>403 Forbidden</title>\\\\n  <style type=\"text/css\">\\\\n    html * { padding:0; margin:0; }\\\\n    body * { padding:10px 20px; }\\\\n    body * * { padding:0; }\\\\n    body { font:small sans-serif; background:#eee; color:#000; }\\\\n    body>div { border-bottom:1px solid #ddd; }\\\\n    h1 { font-weight:normal; margin-bottom:.4em; }\\\\n    h1 span { font-size:60%; color:#666; font-weight:normal; }\\\\n    #info { background:#f6f6f6; }\\\\n    #info ul { margin: 0.5em 4em; }\\\\n    #info p, #summary p { padding-top:10px; }\\\\n    #summary { background: #ffc; }\\\\n    #explanation { background:#eee; border-bottom: 0px none; }\\\\n  </style>\\\\n</head>\\\\n<body>\\\\n<div id=\"summary\">\\\\n  <h1>Forbidden <span>(403)</span></h1>\\\\n  <p>CSRF verification failed. Request aborted.</p>\\\\n\\\\n  <p>You are seeing this message because this HTTPS site requires a \\\\xe2\\\\x80\\\\x9cReferer header\\\\xe2\\\\x80\\\\x9d to be sent by your Web browser, but none was sent. This header is required for security reasons, to ensure that your browser is not being hijacked by third parties.</p>\\\\n  <p>If you have configured your browser to disable \\\\xe2\\\\x80\\\\x9cReferer\\\\xe2\\\\x80\\\\x9d headers, please re-enable them, at least for this site, or for HTTPS connections, or for \\\\xe2\\\\x80\\\\x9csame-origin\\\\xe2\\\\x80\\\\x9d requests.</p>\\\\n  <p>If you are using the &lt;meta name=&quot;referrer&quot; content=&quot;no-referrer&quot;&gt; tag or including the \\\\xe2\\\\x80\\\\x9cReferrer-Policy: no-referrer\\\\xe2\\\\x80\\\\x9d header, please remove them. The CSRF protection requires the \\\\xe2\\\\x80\\\\x9cReferer\\\\xe2\\\\x80\\\\x9d header to do strict referer checking. If you\\\\xe2\\\\x80\\\\x99re concerned about privacy, use alternatives like &lt;a rel=&quot;noreferrer&quot; \\\\xe2\\\\x80\\\\xa6&gt; for links to third-party sites.</p>\\\\n\\\\n\\\\n</div>\\\\n\\\\n<div id=\"info\">\\\\n  <h2>Help</h2>\\\\n    \\\\n    <p>Reason given for failure:</p>\\\\n    <pre>\\\\n    Referer checking failed - no Referer.\\\\n    </pre>\\\\n    \\\\n\\\\n  <p>In general, this can occur when there is a genuine Cross Site Request Forgery, or when\\\\n  <a\\\\n  href=\"https://docs.djangoproject.com/en/3.0/ref/csrf/\">Django\\\\\\'s\\\\n  CSRF mechanism</a> has not been used correctly.  For POST forms, you need to\\\\n  ensure:</p>\\\\n\\\\n  <ul>\\\\n    <li>Your browser is accepting cookies.</li>\\\\n\\\\n    <li>The view function passes a <code>request</code> to the template\\\\\\'s <a\\\\n    href=\"https://docs.djangoproject.com/en/dev/topics/templates/#django.template.backends.base.Template.render\"><code>render</code></a>\\\\n    method.</li>\\\\n\\\\n    <li>In the template, there is a <code>{% csrf_token\\\\n    %}</code> template tag inside each POST form that\\\\n    targets an internal URL.</li>\\\\n\\\\n    <li>If you are not using <code>CsrfViewMiddleware</code>, then you must use\\\\n    <code>csrf_protect</code> on any views that use the <code>csrf_token</code>\\\\n    template tag, as well as those that accept the POST data.</li>\\\\n\\\\n    <li>The form has a valid CSRF token. After logging in in another browser\\\\n    tab or hitting the back button after a login, you may need to reload the\\\\n    page with the form, because the token is rotated after a login.</li>\\\\n  </ul>\\\\n\\\\n  <p>You\\\\\\'re seeing the help section of this page because you have <code>DEBUG =\\\\n  True</code> in your Django settings file. Change that to <code>False</code>,\\\\n  and only the initial error message will be displayed.  </p>\\\\n\\\\n  <p>You can customize this page using the CSRF_FAILURE_VIEW setting.</p>\\\\n</div>\\\\n\\\\n</body>\\\\n</html>\\\\n\\''"
      ]
     },
     "execution_count": 4,
     "metadata": {},
     "output_type": "execute_result"
    }
   ],
   "source": [
    "r = http.request('POST', 'https://iot-flat-01.herokuapp.com/light_on')\n",
    "res = str(r.data)\n",
    "res"
   ]
  },
  {
   "cell_type": "code",
   "execution_count": 45,
   "metadata": {},
   "outputs": [
    {
     "data": {
      "text/plain": [
       "<Response [200]>"
      ]
     },
     "execution_count": 45,
     "metadata": {},
     "output_type": "execute_result"
    }
   ],
   "source": [
    "URL = 'https://iot-flat-01.herokuapp.com/light_off'\n",
    "PARAMS = {} \n",
    "\n",
    "requests.get(url = URL, params = PARAMS)"
   ]
  },
  {
   "cell_type": "code",
   "execution_count": 36,
   "metadata": {},
   "outputs": [
    {
     "data": {
      "text/plain": [
       "<urllib3.response.HTTPResponse at 0x2653dd87c88>"
      ]
     },
     "execution_count": 36,
     "metadata": {},
     "output_type": "execute_result"
    }
   ],
   "source": [
    "http.request('GET', 'https://iot-flat-01.herokuapp.com/https://iot-flat-01.herokuapp.com/light_on?csrfmiddlewaretoken=wEF6LKk0QLA8WZijZhtGYuc7gQjjdc8j3LnIrcBPNwamqy1tNMHGLYN991jLJnei')\n"
   ]
  },
  {
   "cell_type": "code",
   "execution_count": 40,
   "metadata": {},
   "outputs": [
    {
     "data": {
      "text/plain": [
       "{'error_message': 'You must use an API key to authenticate each request to Google Maps Platform APIs. For additional information, please refer to http://g.co/dev/maps-no-account',\n",
       " 'results': [],\n",
       " 'status': 'REQUEST_DENIED'}"
      ]
     },
     "execution_count": 40,
     "metadata": {},
     "output_type": "execute_result"
    }
   ],
   "source": [
    "# importing the requests library \n",
    "import requests \n",
    "  \n",
    "# api-endpoint \n",
    "URL = \"http://maps.googleapis.com/maps/api/geocode/json\"\n",
    "  \n",
    "# location given here \n",
    "location = \"delhi technological university\"\n",
    "  \n",
    "# defining a params dict for the parameters to be sent to the API \n",
    "PARAMS = {'address':location} \n",
    "  \n",
    "# sending get request and saving the response as response object \n",
    "r = requests.get(url = URL, params = PARAMS) \n",
    "  \n",
    "# extracting data in json format \n",
    "data = r.json() \n",
    "  \n",
    "data\n"
   ]
  },
  {
   "cell_type": "code",
   "execution_count": null,
   "metadata": {},
   "outputs": [],
   "source": []
  },
  {
   "cell_type": "code",
   "execution_count": 46,
   "metadata": {},
   "outputs": [
    {
     "ename": "ConnectionRefusedError",
     "evalue": "[WinError 10061] No connection could be made because the target machine actively refused it",
     "output_type": "error",
     "traceback": [
      "\u001b[1;31m---------------------------------------------------------------------------\u001b[0m",
      "\u001b[1;31mConnectionRefusedError\u001b[0m                    Traceback (most recent call last)",
      "\u001b[1;32m<ipython-input-46-ac3cc1bf2719>\u001b[0m in \u001b[0;36m<module>\u001b[1;34m\u001b[0m\n\u001b[0;32m      4\u001b[0m \u001b[0mport\u001b[0m \u001b[1;33m=\u001b[0m \u001b[1;36m12345\u001b[0m                   \u001b[1;31m# The same port as used by the server\u001b[0m\u001b[1;33m\u001b[0m\u001b[1;33m\u001b[0m\u001b[0m\n\u001b[0;32m      5\u001b[0m \u001b[0ms\u001b[0m \u001b[1;33m=\u001b[0m \u001b[0msocket\u001b[0m\u001b[1;33m.\u001b[0m\u001b[0msocket\u001b[0m\u001b[1;33m(\u001b[0m\u001b[0msocket\u001b[0m\u001b[1;33m.\u001b[0m\u001b[0mAF_INET\u001b[0m\u001b[1;33m,\u001b[0m \u001b[0msocket\u001b[0m\u001b[1;33m.\u001b[0m\u001b[0mSOCK_STREAM\u001b[0m\u001b[1;33m)\u001b[0m\u001b[1;33m\u001b[0m\u001b[1;33m\u001b[0m\u001b[0m\n\u001b[1;32m----> 6\u001b[1;33m \u001b[0ms\u001b[0m\u001b[1;33m.\u001b[0m\u001b[0mconnect\u001b[0m\u001b[1;33m(\u001b[0m\u001b[1;33m(\u001b[0m\u001b[0mhost\u001b[0m\u001b[1;33m,\u001b[0m \u001b[0mport\u001b[0m\u001b[1;33m)\u001b[0m\u001b[1;33m)\u001b[0m\u001b[1;33m\u001b[0m\u001b[1;33m\u001b[0m\u001b[0m\n\u001b[0m\u001b[0;32m      7\u001b[0m \u001b[0ms\u001b[0m\u001b[1;33m.\u001b[0m\u001b[0msendall\u001b[0m\u001b[1;33m(\u001b[0m\u001b[1;34mb'Hello, world'\u001b[0m\u001b[1;33m)\u001b[0m\u001b[1;33m\u001b[0m\u001b[1;33m\u001b[0m\u001b[0m\n\u001b[0;32m      8\u001b[0m \u001b[0mdata\u001b[0m \u001b[1;33m=\u001b[0m \u001b[0ms\u001b[0m\u001b[1;33m.\u001b[0m\u001b[0mrecv\u001b[0m\u001b[1;33m(\u001b[0m\u001b[1;36m1024\u001b[0m\u001b[1;33m)\u001b[0m\u001b[1;33m\u001b[0m\u001b[1;33m\u001b[0m\u001b[0m\n",
      "\u001b[1;31mConnectionRefusedError\u001b[0m: [WinError 10061] No connection could be made because the target machine actively refused it"
     ]
    }
   ],
   "source": [
    "import socket\n",
    "\n",
    "host = socket.gethostname()\n",
    "port = 12345                   # The same port as used by the server\n",
    "s = socket.socket(socket.AF_INET, socket.SOCK_STREAM)\n",
    "s.connect((host, port))\n",
    "s.sendall(b'Hello, world')\n",
    "data = s.recv(1024)\n",
    "s.close()\n",
    "print('Received', repr(data))"
   ]
  }
 ],
 "metadata": {
  "kernelspec": {
   "display_name": "Python (jcvenv01 display name)",
   "language": "python",
   "name": "jcvenv01"
  },
  "language_info": {
   "codemirror_mode": {
    "name": "ipython",
    "version": 3
   },
   "file_extension": ".py",
   "mimetype": "text/x-python",
   "name": "python",
   "nbconvert_exporter": "python",
   "pygments_lexer": "ipython3",
   "version": "3.7.4"
  }
 },
 "nbformat": 4,
 "nbformat_minor": 2
}
