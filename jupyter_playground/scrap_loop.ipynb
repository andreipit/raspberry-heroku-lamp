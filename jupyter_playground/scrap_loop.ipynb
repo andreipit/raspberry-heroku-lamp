{
 "cells": [
  {
   "cell_type": "code",
   "execution_count": 1,
   "metadata": {},
   "outputs": [
    {
     "name": "stdout",
     "output_type": "stream",
     "text": [
      "1\n",
      "2\n",
      "1\n",
      "2\n",
      "1\n",
      "2\n"
     ]
    }
   ],
   "source": [
    "end = False\n",
    "import urllib3, time\n",
    "# http = urllib3.PoolManager()\n",
    "# r = http.request('GET', 'https://iot-flat-01.herokuapp.com/min') # http://httpbin.org/robots.txt\n",
    "# #r.status\n",
    "# res = str(r.data)\n",
    "# print(int(res[3562:3563]))\n",
    "\n",
    "i = 0\n",
    "#while not end:\n",
    "while i < 3:    \n",
    "    #r = http.request('GET', 'https://iot-flat-01.herokuapp.com/min') # http://httpbin.org/robots.txt\n",
    "    #print(int(r.data[3562:3563]))\n",
    "    print(1)\n",
    "    time.sleep(1)\n",
    "    print(2)\n",
    "    i+=1\n",
    "    "
   ]
  },
  {
   "cell_type": "code",
   "execution_count": 6,
   "metadata": {},
   "outputs": [
    {
     "data": {
      "text/plain": [
       "'2019-12-19 14:01:54.444346'"
      ]
     },
     "execution_count": 6,
     "metadata": {},
     "output_type": "execute_result"
    }
   ],
   "source": [
    "import datetime\n",
    "str(datetime.datetime.now())\n",
    "#datetime.datetime(2009, 1, 6, 15, 8, 24, 78915)\n",
    "\n",
    "# print(datetime.datetime.now())\n",
    "# 2009-01-06 15:08:24.789150"
   ]
  }
 ],
 "metadata": {
  "kernelspec": {
   "display_name": "Python (jcvenv01 display name)",
   "language": "python",
   "name": "jcvenv01"
  },
  "language_info": {
   "codemirror_mode": {
    "name": "ipython",
    "version": 3
   },
   "file_extension": ".py",
   "mimetype": "text/x-python",
   "name": "python",
   "nbconvert_exporter": "python",
   "pygments_lexer": "ipython3",
   "version": "3.7.4"
  }
 },
 "nbformat": 4,
 "nbformat_minor": 2
}
