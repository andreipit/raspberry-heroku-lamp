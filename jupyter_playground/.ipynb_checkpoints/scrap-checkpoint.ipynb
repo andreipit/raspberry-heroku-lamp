{
 "cells": [
  {
   "cell_type": "code",
   "execution_count": 10,
   "metadata": {},
   "outputs": [
    {
     "data": {
      "text/plain": [
       "200"
      ]
     },
     "execution_count": 10,
     "metadata": {},
     "output_type": "execute_result"
    }
   ],
   "source": [
    "import urllib3\n",
    "http = urllib3.PoolManager()\n",
    "r = http.request('GET', 'https://iot-flat-01.herokuapp.com/min') # http://httpbin.org/robots.txt\n",
    "r.status\n",
    "#200\n"
   ]
  },
  {
   "cell_type": "code",
   "execution_count": 11,
   "metadata": {},
   "outputs": [
    {
     "data": {
      "text/plain": [
       "b'<!DOCTYPE html>\\n<html>\\n<head>\\n<title>Python Getting Started on Heroku</title>\\n  <link rel=\"stylesheet\" type=\"text/css\" href=\"//maxcdn.bootstrapcdn.com/bootstrap/3.3.4/css/bootstrap.min.css\" />\\n  <script src=\"https://ajax.googleapis.com/ajax/libs/jquery/2.1.3/jquery.min.js\"></script>\\n  <script type=\"text/javascript\" src=\"//maxcdn.bootstrapcdn.com/bootstrap/3.3.4/js/bootstrap.min.js\"></script>\\n  <style type=\"text/css\">\\n    .jumbotron {\\n        background: #532f8c;\\n        color: white;\\n        padding-bottom: 80px\\n    }\\n    .jumbotron .btn-primary {\\n        background: #845ac7;\\n        border-color: #845ac7\\n    }\\n    .jumbotron .btn-primary:hover {\\n        background: #7646c1\\n    }\\n    .jumbotron p {\\n        color: #d9ccee;\\n        max-width: 75%;\\n        margin: 1em auto 2em\\n    }\\n    .navbar+.jumbotron {\\n        margin-top: -20px\\n    }\\n    .jumbotron .lang-logo {\\n        display: block;\\n        background: #b01302;\\n        border-radius: 50%;\\n        overflow: hidden;\\n        width: 100px;\\n        height: 100px;\\n        margin: auto;\\n        border: 2px solid white\\n    }\\n    .jumbotron .lang-logo img {\\n        max-width: 100%\\n    }\\n\\n\\n  </style>\\n</head>\\n<body>\\n<nav class=\"navbar navbar-default navbar-static-top navbar-inverse\">\\n  <div class=\"container\">\\n    <ul class=\"nav navbar-nav\">\\n      <li class=\"active\">\\n        <a href=\"/\"><span class=\"glyphicon glyphicon-home\"></span> Home</a>\\n      </li>\\n      <li>\\n        <a href=\"https://devcenter.heroku.com/articles/how-heroku-works\"><span class=\"glyphicon glyphicon-user\"></span> How Heroku Works</a>\\n      </li>\\n      <li class=\"dropdown\">\\n        <a href=\"#\" class=\"dropdown-toggle\" data-toggle=\"dropdown\" role=\"button\" aria-expanded=\"false\"><span class=\"glyphicon glyphicon-info-sign\"></span> Getting Started Guides <span class=\"caret\"></span></a>\\n          <ul class=\"dropdown-menu\" role=\"menu\">\\n            <li><a href=\"https://devcenter.heroku.com/articles/getting-started-with-ruby\">Getting Started with Ruby on Heroku</a></li>\\n            <li><a href=\"https://devcenter.heroku.com/articles/getting-started-with-nodejs\">Getting Started with Node on Heroku</a></li>\\n            <li><a href=\"https://devcenter.heroku.com/articles/getting-started-with-php\">Getting Started with PHP on Heroku</a></li>\\n            <li><a href=\"https://devcenter.heroku.com/articles/getting-started-with-python\">Getting Started with Python on Heroku</a></li>\\n            <li><a href=\"https://devcenter.heroku.com/articles/getting-started-with-java\">Getting Started with Java on Heroku</a></li>\\n            <li><a href=\"https://devcenter.heroku.com/articles/getting-started-with-clojure\">Getting Started with Clojure on Heroku</a></li>\\n            <li><a href=\"https://devcenter.heroku.com/articles/getting-started-with-scala\">Getting Started with Scala on Heroku</a></li>\\n            <li class=\"divider\"></li>\\n            <li><a href=\"https://devcenter.heroku.com/articles/getting-started-with-heroku-and-connect-without-local-dev\">Getting Started on Heroku with Heroku Connect</a></li>\\n            <li><a href=\"https://devcenter.heroku.com/articles/getting-started-with-jruby\">Getting Started with Ruby on Heroku (Microsoft Windows)</a></li>\\n          </ul>\\n      </li>\\n    </ul>\\n    <ul class=\"nav navbar-nav navbar-right\">\\n      <li class=\"navbar-right\">\\n        <a href=\"https://devcenter.heroku.com\"><span class=\"glyphicon glyphicon-book\"></span> Heroku Dev Center</a>\\n      </li>\\n    </ul>\\n  </div>\\n</nav>\\n\\n\\n\\n\\n\\n<form action=\"/light_on\" method=\"get\">\\n    <input type=\"hidden\" name=\"csrfmiddlewaretoken\" value=\"PZEQBHIy1P4kUiIdZCziZSu3cQe1ZOqoZFsxGvtUh9AKTprvup13MFQOjUxmL4lD\">\\n    <input type=\"submit\" value=\"\\xd0\\x92\\xd0\\xba\\xd0\\xbb\\xd1\\x8e\\xd1\\x87\\xd0\\xb8\\xd1\\x82\\xd1\\x8c \\xd1\\x81\\xd0\\xb2\\xd0\\xb5\\xd1\\x82\" class=\"btn btn-lg btn-success\">\\n</form>\\n\\n<form action=\"/light_off\" method=\"get\">\\n    <input type=\"hidden\" name=\"csrfmiddlewaretoken\" value=\"PZEQBHIy1P4kUiIdZCziZSu3cQe1ZOqoZFsxGvtUh9AKTprvup13MFQOjUxmL4lD\">\\n    <input type=\"submit\" value=\"\\xd0\\x92\\xd1\\x8b\\xd0\\xba\\xd0\\xbb\\xd1\\x8e\\xd1\\x87\\xd0\\xb8\\xd1\\x82\\xd1\\x8c \\xd1\\x81\\xd0\\xb2\\xd0\\xb5\\xd1\\x82\" class=\"btn btn-lg btn-danger\">\\n</form>\\n\\n\\n\\xd0\\xa1\\xd0\\xb2\\xd0\\xb5\\xd1\\x82 \\xd0\\xb4\\xd0\\xbe\\xd0\\xbb\\xd0\\xb6\\xd0\\xb5\\xd0\\xbd \\xd0\\xb1\\xd1\\x8b\\xd1\\x82\\xd1\\x8c: 0.0 <br>\\n\\xd0\\xa1\\xd0\\xb2\\xd0\\xb5\\xd1\\x82 \\xd0\\xbd\\xd0\\xb0 \\xd1\\x81\\xd0\\xb0\\xd0\\xbc\\xd0\\xbe\\xd0\\xbc \\xd0\\xb4\\xd0\\xb5\\xd0\\xbb\\xd0\\xb5: 0.0<br>\\n\\n\\n\\n\\n</body>\\n</html>\\n'"
      ]
     },
     "execution_count": 11,
     "metadata": {},
     "output_type": "execute_result"
    }
   ],
   "source": [
    "r.data\n",
    "#'User-agent: *\\nDisallow: /deny\\n'"
   ]
  },
  {
   "cell_type": "code",
   "execution_count": null,
   "metadata": {},
   "outputs": [],
   "source": []
  },
  {
   "cell_type": "code",
   "execution_count": null,
   "metadata": {},
   "outputs": [],
   "source": []
  },
  {
   "cell_type": "code",
   "execution_count": null,
   "metadata": {},
   "outputs": [],
   "source": []
  },
  {
   "cell_type": "code",
   "execution_count": null,
   "metadata": {},
   "outputs": [],
   "source": []
  },
  {
   "cell_type": "code",
   "execution_count": null,
   "metadata": {},
   "outputs": [],
   "source": []
  }
 ],
 "metadata": {
  "kernelspec": {
   "display_name": "Python (jcvenv01 display name)",
   "language": "python",
   "name": "jcvenv01"
  },
  "language_info": {
   "codemirror_mode": {
    "name": "ipython",
    "version": 3
   },
   "file_extension": ".py",
   "mimetype": "text/x-python",
   "name": "python",
   "nbconvert_exporter": "python",
   "pygments_lexer": "ipython3",
   "version": "3.7.4"
  }
 },
 "nbformat": 4,
 "nbformat_minor": 2
}
