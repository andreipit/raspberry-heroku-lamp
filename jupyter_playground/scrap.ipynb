{
 "cells": [
  {
   "cell_type": "code",
   "execution_count": 26,
   "metadata": {},
   "outputs": [
    {
     "name": "stdout",
     "output_type": "stream",
     "text": [
      "1\n"
     ]
    }
   ],
   "source": [
    "import urllib3\n",
    "http = urllib3.PoolManager()\n",
    "r = http.request('GET', 'https://iot-flat-01.herokuapp.com/min') # http://httpbin.org/robots.txt\n",
    "#r.status\n",
    "#200\n",
    "res = str(r.data)\n",
    "#'User-agent: *\\nDisallow: /deny\\n'\n",
    "print(int(res[3562:3563]))\n"
   ]
  },
  {
   "cell_type": "code",
   "execution_count": 25,
   "metadata": {},
   "outputs": [],
   "source": [
    "#r2 = http.request('GET', 'http://iot-flat-01.herokuapp.com/light_on')\n",
    "r2 = http.request('GET', 'http://iot-flat-01.herokuapp.com/light_on')\n",
    "\n",
    "res2 = str(r2.data)\n",
    "#res2"
   ]
  },
  {
   "cell_type": "code",
   "execution_count": null,
   "metadata": {},
   "outputs": [],
   "source": []
  }
 ],
 "metadata": {
  "kernelspec": {
   "display_name": "Python (jcvenv01 display name)",
   "language": "python",
   "name": "jcvenv01"
  },
  "language_info": {
   "codemirror_mode": {
    "name": "ipython",
    "version": 3
   },
   "file_extension": ".py",
   "mimetype": "text/x-python",
   "name": "python",
   "nbconvert_exporter": "python",
   "pygments_lexer": "ipython3",
   "version": "3.7.4"
  }
 },
 "nbformat": 4,
 "nbformat_minor": 2
}
